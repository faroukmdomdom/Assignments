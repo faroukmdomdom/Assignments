{
 "cells": [
  {
   "cell_type": "markdown",
   "metadata": {
    "id": "SnRl_F0bDE8q"
   },
   "source": [
    "# Assignment 3"
   ]
  },
  {
   "cell_type": "markdown",
   "metadata": {
    "id": "RqXTcRvVDE8y"
   },
   "source": [
    "### Write a function to count the number 4 in a given list."
   ]
  },
  {
   "cell_type": "code",
   "execution_count": 68,
   "metadata": {
    "id": "6r-k4xxqDE8z",
    "scrolled": true
   },
   "outputs": [
    {
     "name": "stdout",
     "output_type": "stream",
     "text": [
      "5\n"
     ]
    }
   ],
   "source": [
    "list = [1,2,2,3,5,4,4,7,4,5,2,2,8,9,7,4,4]\n",
    "\n",
    "print(list.count(4))"
   ]
  },
  {
   "cell_type": "markdown",
   "metadata": {
    "id": "JyS6YW05DE81"
   },
   "source": [
    "### write a  function to check whether a number is divisible by another number."
   ]
  },
  {
   "cell_type": "code",
   "execution_count": 13,
   "metadata": {
    "id": "YjC1rdDRDE81"
   },
   "outputs": [
    {
     "name": "stdout",
     "output_type": "stream",
     "text": [
      "False\n",
      "True\n"
     ]
    }
   ],
   "source": [
    "def divOrNot(x,y):\n",
    "    if (x%y == 0):\n",
    "        return True\n",
    "    else:\n",
    "        return False\n",
    "    \n",
    "a = divOrNot (1,10)\n",
    "b = divOrNot (20,5)\n",
    "\n",
    "print(a)\n",
    "print(b)"
   ]
  },
  {
   "cell_type": "markdown",
   "metadata": {
    "id": "Xxye1Sy1DE82"
   },
   "source": [
    "### write a function to find the maximum and minimum numbers from a sequence of numbers."
   ]
  },
  {
   "cell_type": "code",
   "execution_count": 24,
   "metadata": {
    "id": "C1CjvIIDDE83"
   },
   "outputs": [
    {
     "name": "stdout",
     "output_type": "stream",
     "text": [
      "(5, -5)\n"
     ]
    }
   ],
   "source": [
    "def minmax(seq):\n",
    "    return max(seq) , min(seq)\n",
    "    \n",
    "print(minmax([-5,-4,-3,-2,-1,0,1,2,3,4,5]))  "
   ]
  },
  {
   "cell_type": "markdown",
   "metadata": {
    "id": "qEKTbZSXDE84"
   },
   "source": [
    "### Write a Python function that takes two lists and returns True if they have at least one common member."
   ]
  },
  {
   "cell_type": "code",
   "execution_count": 45,
   "metadata": {
    "id": "J80wSzKEDE86"
   },
   "outputs": [
    {
     "data": {
      "text/plain": [
       "True"
      ]
     },
     "execution_count": 45,
     "metadata": {},
     "output_type": "execute_result"
    }
   ],
   "source": [
    "def common(lst1 , lst2):\n",
    "    set1 = set(lst1)\n",
    "    set2 = set(lst2)\n",
    "    if(len(set1.intersection(set2)) ==1):\n",
    "        return True\n",
    "    else:\n",
    "        return False\n",
    "    \n",
    "common([1,2,3,4,5],[5,6,7,8,9,10])    "
   ]
  },
  {
   "cell_type": "markdown",
   "metadata": {
    "id": "M-N4r6wXDE87"
   },
   "source": [
    "Write a Python function to calculate the factorial of a number (a non-negative integer). The function accepts the number from the user"
   ]
  },
  {
   "cell_type": "code",
   "execution_count": 58,
   "metadata": {
    "id": "NLKo0T26DE88"
   },
   "outputs": [
    {
     "name": "stdout",
     "output_type": "stream",
     "text": [
      "enter a non negative integer number to get its factorial, 5\n"
     ]
    },
    {
     "data": {
      "text/plain": [
       "120"
      ]
     },
     "execution_count": 58,
     "metadata": {},
     "output_type": "execute_result"
    }
   ],
   "source": [
    "def getfact():\n",
    "    num = int(input('enter a non negative integer number to get its factorial,' ' '))\n",
    "    fact = 1\n",
    "    for i in range(1,num+1):\n",
    "        fact*=i\n",
    "    return fact\n",
    "\n",
    "getfact()"
   ]
  },
  {
   "cell_type": "markdown",
   "metadata": {
    "id": "w6QTJKkBDE89"
   },
   "source": [
    " Write a Python function to check whether a number is in a given range.\n",
    "\n",
    " The range is from 3 to 11\n"
   ]
  },
  {
   "cell_type": "code",
   "execution_count": 80,
   "metadata": {
    "id": "QMk4adavDE8-"
   },
   "outputs": [
    {
     "name": "stdout",
     "output_type": "stream",
     "text": [
      "enter your number to find it in range[3,11]5\n",
      "True\n"
     ]
    }
   ],
   "source": [
    "def range(x):\n",
    "    if x >= 3 and x <= 11 :\n",
    "        return True\n",
    "    else:\n",
    "        return False\n",
    "    \n",
    "x = int(input('enter your number to find it in range[3,11]'))\n",
    "\n",
    "print(range(x))"
   ]
  },
  {
   "cell_type": "markdown",
   "metadata": {
    "id": "2Q_IrnFFDE8_"
   },
   "source": [
    "### Write a  program to create the multiplication table (from 1 to 10) of a number."
   ]
  },
  {
   "cell_type": "code",
   "execution_count": 112,
   "metadata": {
    "scrolled": true
   },
   "outputs": [
    {
     "name": "stdout",
     "output_type": "stream",
     "text": [
      "enter a num to see its multiplication table : 9\n"
     ]
    },
    {
     "ename": "TypeError",
     "evalue": "range() takes 1 positional argument but 2 were given",
     "output_type": "error",
     "traceback": [
      "\u001b[1;31m---------------------------------------------------------------------------\u001b[0m",
      "\u001b[1;31mTypeError\u001b[0m                                 Traceback (most recent call last)",
      "Input \u001b[1;32mIn [112]\u001b[0m, in \u001b[0;36m<cell line: 9>\u001b[1;34m()\u001b[0m\n\u001b[0;32m      3\u001b[0m         \u001b[38;5;28mprint\u001b[39m(\u001b[38;5;124m\"\u001b[39m\u001b[38;5;132;01m{y}\u001b[39;00m\u001b[38;5;124m x \u001b[39m\u001b[38;5;132;01m{i}\u001b[39;00m\u001b[38;5;124m = \u001b[39m\u001b[38;5;124m{\u001b[39m\u001b[38;5;124my*i}\u001b[39m\u001b[38;5;124m\"\u001b[39m)\n\u001b[0;32m      6\u001b[0m n\u001b[38;5;241m=\u001b[39m\u001b[38;5;28mint\u001b[39m(\u001b[38;5;28minput\u001b[39m(\u001b[38;5;124m'\u001b[39m\u001b[38;5;124menter a num to see its multiplication table : \u001b[39m\u001b[38;5;124m'\u001b[39m))\n\u001b[1;32m----> 9\u001b[0m \u001b[38;5;28mprint\u001b[39m(\u001b[43mmul_table\u001b[49m\u001b[43m(\u001b[49m\u001b[43mn\u001b[49m\u001b[43m)\u001b[49m)\n",
      "Input \u001b[1;32mIn [112]\u001b[0m, in \u001b[0;36mmul_table\u001b[1;34m(x)\u001b[0m\n\u001b[0;32m      1\u001b[0m \u001b[38;5;28;01mdef\u001b[39;00m \u001b[38;5;21mmul_table\u001b[39m(x):\n\u001b[1;32m----> 2\u001b[0m     \u001b[38;5;28;01mfor\u001b[39;00m i \u001b[38;5;129;01min\u001b[39;00m \u001b[38;5;28;43mrange\u001b[39;49m\u001b[43m(\u001b[49m\u001b[38;5;241;43m1\u001b[39;49m\u001b[43m,\u001b[49m\u001b[38;5;241;43m11\u001b[39;49m\u001b[43m)\u001b[49m:\n\u001b[0;32m      3\u001b[0m         \u001b[38;5;28mprint\u001b[39m(\u001b[38;5;124m\"\u001b[39m\u001b[38;5;132;01m{y}\u001b[39;00m\u001b[38;5;124m x \u001b[39m\u001b[38;5;132;01m{i}\u001b[39;00m\u001b[38;5;124m = \u001b[39m\u001b[38;5;124m{\u001b[39m\u001b[38;5;124my*i}\u001b[39m\u001b[38;5;124m\"\u001b[39m)\n",
      "\u001b[1;31mTypeError\u001b[0m: range() takes 1 positional argument but 2 were given"
     ]
    }
   ],
   "source": [
    "def mul_table(x):\n",
    "    for i in range(1,11):\n",
    "        print(\"{y} x {i} = {y*i}\")\n",
    "        \n",
    "       \n",
    "n=int(input('enter a num to see its multiplication table : '))\n",
    "\n",
    "\n",
    "print(mul_table(n))"
   ]
  },
  {
   "cell_type": "markdown",
   "metadata": {
    "id": "btWn-PpkDE9B"
   },
   "source": [
    " LESSER OF TWO EVENS: Write a function that returns the lesser of two given numbers *if* both numbers are even, but returns the greater if one or both numbers are odd\n",
    "    lesser_of_two_evens(2,4) --> 2\n",
    "    lesser_of_two_evens(2,5) --> 5"
   ]
  },
  {
   "cell_type": "code",
   "execution_count": 116,
   "metadata": {
    "id": "eoU5bDvgDE9C"
   },
   "outputs": [
    {
     "name": "stdout",
     "output_type": "stream",
     "text": [
      "(2, 4)\n",
      "5\n"
     ]
    }
   ],
   "source": [
    "def lesser_of_two_evens(n1,n2):\n",
    "    if (n1 % 2 ==0 and n2 % 2 ==0):\n",
    "        return (n1 , n2)\n",
    "    else:\n",
    "        return max(n1 , n2)\n",
    "    \n",
    "print(lesser_of_two_evens(2,4))\n",
    "print(lesser_of_two_evens(2,5))"
   ]
  },
  {
   "cell_type": "markdown",
   "metadata": {
    "id": "qjLN9VigDE9C"
   },
   "source": [
    "#### ANIMAL CRACKERS: Write a function takes a two-word string and returns True if both words begin with same letter\n",
    "    animal_crackers('Levelheaded Llama') --> True\n",
    "    animal_crackers('Crazy Kangaroo') --> False"
   ]
  },
  {
   "cell_type": "code",
   "execution_count": 128,
   "metadata": {
    "id": "GWtGsmwzDE9D"
   },
   "outputs": [
    {
     "name": "stdout",
     "output_type": "stream",
     "text": [
      "True\n",
      "False\n"
     ]
    }
   ],
   "source": [
    "def animal_crackers(st):\n",
    "    st_list = st.split()\n",
    "    if (st_list[0][0].lower() == st_list[1][0].lower()):\n",
    "        return True\n",
    "    else:\n",
    "        return False\n",
    "    \n",
    "print(animal_crackers('levelheaded liama'))\n",
    "print(animal_crackers('crazy kangaroo'))\n"
   ]
  },
  {
   "cell_type": "markdown",
   "metadata": {
    "id": "SB-iUXr8DE9E"
   },
   "source": [
    "#### MAKES TWENTY: Given two integers, return True if the sum of the integers is 20 *or* if one of the integers is 20. If not, return False\n",
    "\n",
    "    makes_twenty(20,10) --> True\n",
    "    makes_twenty(12,8) --> True\n",
    "    makes_twenty(2,3) --> False"
   ]
  },
  {
   "cell_type": "code",
   "execution_count": 139,
   "metadata": {
    "id": "z40N4YxwDE9F"
   },
   "outputs": [
    {
     "name": "stdout",
     "output_type": "stream",
     "text": [
      "True\n",
      "True\n",
      "False\n"
     ]
    }
   ],
   "source": [
    "def makes_twenty(n1 , n2):\n",
    "    if (n1==20 or n2==20 or n1+n2==20):\n",
    "        return True\n",
    "    else:\n",
    "        return False\n",
    "    \n",
    "print(makes_twenty(20,10))\n",
    "print(makes_twenty(12,8))\n",
    "print(makes_twenty(2,3))"
   ]
  },
  {
   "cell_type": "markdown",
   "metadata": {
    "id": "Us28EPwQDE9F"
   },
   "source": [
    "#### ALMOST THERE: Given an integer n, return True if n is within 10 of either 100 or 200\n",
    "\n",
    "    almost_there(90) --> True\n",
    "    almost_there(104) --> True\n",
    "    almost_there(150) --> False\n",
    "    almost_there(209) --> True\n",
    "    \n",
    "NOTE: `abs(num)` returns the absolute value of a number"
   ]
  },
  {
   "cell_type": "code",
   "execution_count": 141,
   "metadata": {
    "id": "0hXud98YDE9G"
   },
   "outputs": [
    {
     "name": "stdout",
     "output_type": "stream",
     "text": [
      "True\n",
      "True\n",
      "False\n",
      "True\n"
     ]
    }
   ],
   "source": [
    "def almost_there(n):\n",
    "    if (abs(n-100)<=10  or abs(n-200)<=10):\n",
    "        return True\n",
    "    else:\n",
    "        return False\n",
    "        \n",
    "print(almost_there(90)) \n",
    "print(almost_there(104)) \n",
    "print(almost_there(150)) \n",
    "print(almost_there(209))"
   ]
  },
  {
   "cell_type": "markdown",
   "metadata": {
    "id": "KRO60Gv4DE9G"
   },
   "source": [
    "#### BLACKJACK: Given three integers between 1 and 11, if their sum is less than or equal to 21, return their sum. If their sum exceeds 21 *and* there's an eleven, reduce the total sum by 10. Finally, if the sum  exceeds 21, return 'BUST'\n",
    "    blackjack(5,6,7) --> 18\n",
    "    blackjack(9,9,9) --> 'BUST'\n",
    "    blackjack(9,9,11) --> 19"
   ]
  },
  {
   "cell_type": "code",
   "execution_count": 144,
   "metadata": {
    "id": "3uxiuGtgDE9H",
    "scrolled": true
   },
   "outputs": [
    {
     "name": "stdout",
     "output_type": "stream",
     "text": [
      "18\n",
      "Bust\n",
      "19\n"
     ]
    }
   ],
   "source": [
    "def blackjack(n1, n2, n3):\n",
    "    if(n1+n2+n3 <=21):\n",
    "        return n1+n2+n3\n",
    "    else:\n",
    "        if(11 in [n1, n2, n3]):\n",
    "            return (n1+n2+n3 - 10)\n",
    "        else:\n",
    "            return \"Bust\"\n",
    "\n",
    "print(blackjack(5,6,7))\n",
    "print(blackjack(9,9,9))\n",
    "print(blackjack(9,9,11))"
   ]
  }
 ],
 "metadata": {
  "colab": {
   "name": "Assignment 3.ipynb",
   "provenance": []
  },
  "kernelspec": {
   "display_name": "Python 3 (ipykernel)",
   "language": "python",
   "name": "python3"
  },
  "language_info": {
   "codemirror_mode": {
    "name": "ipython",
    "version": 3
   },
   "file_extension": ".py",
   "mimetype": "text/x-python",
   "name": "python",
   "nbconvert_exporter": "python",
   "pygments_lexer": "ipython3",
   "version": "3.9.12"
  }
 },
 "nbformat": 4,
 "nbformat_minor": 1
}
